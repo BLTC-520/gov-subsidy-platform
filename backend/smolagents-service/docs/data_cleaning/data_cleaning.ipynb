{
 "cells": [
  {
   "cell_type": "code",
   "execution_count": 2,
   "id": "ad3e9b7b-e1d5-48c9-b3c2-506ba14bd6d6",
   "metadata": {},
   "outputs": [
    {
     "data": {
      "text/plain": [
       "'/Users/brianhar/Desktop/DataCleaning_HIES'"
      ]
     },
     "execution_count": 2,
     "metadata": {},
     "output_type": "execute_result"
    }
   ],
   "source": [
    "import os\n",
    "os.getcwd()"
   ]
  },
  {
   "cell_type": "code",
   "execution_count": 10,
   "id": "c664d1cd-d65a-45b5-a6a4-0c0f72f204fe",
   "metadata": {},
   "outputs": [
    {
     "name": "stdout",
     "output_type": "stream",
     "text": [
      "Cleaned dataset saved to hies_cleaned_state_percentile.csv\n"
     ]
    }
   ],
   "source": [
    "import pandas as pd\n",
    "\n",
    "def clean_hies_data(input_csv: str, output_csv: str):\n",
    "    \"\"\"\n",
    "    Clean HIS/HIES percentile dataset:\n",
    "    - Keep only deciles (10,20,...,100)\n",
    "    - Drop date and `variable` column (redundant)\n",
    "    - Map to income groups: B1-B4, M1-M4, T1, T2\n",
    "    - Save to a new CSV\n",
    "    \"\"\"\n",
    "    # Load dataset\n",
    "    df = pd.read_csv(input_csv)\n",
    "\n",
    "    # Filter only multiples of 10 percentiles\n",
    "    df_filtered = df[df['percentile'] % 10 == 0].copy()\n",
    "\n",
    "    cols_to_drop = [col for col in [\"date\", \"variable\"] if col in df_filtered.columns]\n",
    "    df_filtered = df_filtered.drop(columns=cols_to_drop)\n",
    "\n",
    "    # Define mapping from percentile -> income group\n",
    "    mapping = {\n",
    "        10: \"B1\", 20: \"B2\", 30: \"B3\", 40: \"B4\",\n",
    "        50: \"M1\", 60: \"M2\", 70: \"M3\", 80: \"M4\",\n",
    "        90: \"T1\", 100: \"T2\"\n",
    "    }\n",
    "\n",
    "    # Add income_group column based on mapping\n",
    "    df_filtered[\"income_group\"] = df_filtered[\"percentile\"].map(mapping)\n",
    "\n",
    "    # Reorder columns for clarity\n",
    "    df_filtered = df_filtered[[\"state\", \"income_group\", \"percentile\", \"income\"]]\n",
    "\n",
    "    # Save cleaned dataset\n",
    "    df_filtered.to_csv(output_csv, index=False)\n",
    "    print(f\"Cleaned dataset saved to {output_csv}\")\n",
    "\n",
    "\n",
    "if __name__ == \"__main__\":\n",
    "    # Example usage\n",
    "    input_csv = \"hies_state_percentile.csv\"        # replace with your raw HIS/HIES CSV\n",
    "    output_csv = \"hies_cleaned_state_percentile.csv\"   # output file\n",
    "    clean_hies_data(input_csv, output_csv)\n"
   ]
  },
  {
   "cell_type": "code",
   "execution_count": 11,
   "id": "4aa4dc06-5394-4a09-9984-4e1fa628738f",
   "metadata": {},
   "outputs": [],
   "source": [
    "df = pd.read_csv(\"hies_cleaned_state_percentile.csv\")\n",
    "\n",
    "# Drop percentile column\n",
    "df = df.drop(columns=[\"percentile\"])\n",
    "\n",
    "# Save back\n",
    "df.to_csv(\"hies_cleaned_state_percentile.csv\", index=False)"
   ]
  }
 ],
 "metadata": {
  "kernelspec": {
   "display_name": "Python 3 (ipykernel)",
   "language": "python",
   "name": "python3"
  },
  "language_info": {
   "codemirror_mode": {
    "name": "ipython",
    "version": 3
   },
   "file_extension": ".py",
   "mimetype": "text/x-python",
   "name": "python",
   "nbconvert_exporter": "python",
   "pygments_lexer": "ipython3",
   "version": "3.13.3"
  }
 },
 "nbformat": 4,
 "nbformat_minor": 5
}
